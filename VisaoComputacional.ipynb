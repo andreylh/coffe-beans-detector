{
  "nbformat": 4,
  "nbformat_minor": 0,
  "metadata": {
    "colab": {
      "name": "VisaoComputacional.ipynb",
      "provenance": [],
      "collapsed_sections": []
    },
    "kernelspec": {
      "name": "python3",
      "display_name": "Python 3"
    }
  },
  "cells": [
    {
      "cell_type": "code",
      "metadata": {
        "id": "CktAMOmKKL6U",
        "colab_type": "code",
        "outputId": "90b77eda-b756-4cbe-8c17-e825a6224195",
        "colab": {
          "base_uri": "https://localhost:8080/",
          "height": 34
        }
      },
      "source": [
        "!git clone https://github.com/guilhermesartori/DatasetCafe"
      ],
      "execution_count": 0,
      "outputs": [
        {
          "output_type": "stream",
          "text": [
            "fatal: destination path 'DatasetCafe' already exists and is not an empty directory.\n"
          ],
          "name": "stdout"
        }
      ]
    },
    {
      "cell_type": "code",
      "metadata": {
        "id": "eOsosrIUIESg",
        "colab_type": "code",
        "outputId": "c8f4e9ac-366e-418c-b180-7e612eca2ebd",
        "colab": {
          "base_uri": "https://localhost:8080/",
          "height": 51
        }
      },
      "source": [
        "import cv2\n",
        "import matplotlib\n",
        "import numpy as np\n",
        "from matplotlib import pyplot as plt\n",
        "from google.colab.patches import cv2_imshow\n",
        "import copy\n",
        "from skimage.feature import canny\n",
        "from matplotlib import cm\n",
        "from skimage.viewer import ImageViewer\n",
        "from skimage import data, color\n",
        "from skimage.transform import hough_circle, hough_circle_peaks, hough_ellipse\n",
        "from skimage.draw import circle_perimeter, ellipse_perimeter\n",
        "from sklearn import neighbors\n",
        "from sklearn import covariance\n",
        "import numexpr as ne\n",
        "from sklearn.cluster import KMeans\n",
        "from skimage import io\n",
        "import pandas as pd\n",
        "from os import listdir\n",
        "import pandas as pd\n",
        "import numpy as np\n",
        "import sklearn\n",
        "from sklearn import svm, datasets, metrics\n",
        "from xgboost import XGBClassifier\n",
        "from sklearn.model_selection import cross_val_score\n",
        "from sklearn.metrics import confusion_matrix, classification_report\n",
        "import pickle"
      ],
      "execution_count": 0,
      "outputs": [
        {
          "output_type": "stream",
          "text": [
            "/usr/local/lib/python3.6/dist-packages/skimage/viewer/__init__.py:6: UserWarning: Viewer requires Qt\n",
            "  warn('Viewer requires Qt')\n"
          ],
          "name": "stderr"
        }
      ]
    },
    {
      "cell_type": "code",
      "metadata": {
        "id": "C6-NF94Q52du",
        "colab_type": "code",
        "colab": {}
      },
      "source": [
        "def to_gray(image):\n",
        "    if image.shape[-1] == 3:           \n",
        "        b,g,r = cv2.split(image)\n",
        "        rgb_img = cv2.merge([r,g,b])\n",
        "        gray_img = cv2.cvtColor(image, cv2.COLOR_BGR2GRAY)\n",
        "    else:\n",
        "        gray_img = image\n",
        "    return gray_img\n",
        "\n",
        "def cannySciKit(source, sigma, low_threshold, high_threshold, use_quantiles):\n",
        "    image = source\n",
        "    gray_img = to_gray(image)\n",
        "\n",
        "    edges = canny(gray_img, sigma=sigma, low_threshold=low_threshold, high_threshold=high_threshold, use_quantiles=use_quantiles)\n",
        "    plt.imshow(edges, cmap=cm.gray, aspect='equal')\n",
        "    \n",
        "    return edges\n",
        "\n",
        "def cannyOpenCV(source,threshold1,threshold2,apertureSize,L2gradient):\n",
        "    image = source\n",
        "    edges = cv2.Canny(image, threshold1=threshold1, threshold2=threshold2, apertureSize=apertureSize, L2gradient=L2gradient)\n",
        "\n",
        "    return edges\n",
        "\n",
        "def centroid(img):\n",
        "    m = cv2.moments(img)\n",
        "    cx = int(m['m10']/m['m00'])\n",
        "    cy = int(m['m01']/m['m00'])\n",
        "\n",
        "    return cx, cy\n",
        "\n",
        "def unique_count(image):\n",
        "    reshaped_img = image.reshape(-1,image.shape[-1])\n",
        "    colors, count = np.unique(reshaped_img, axis=0, return_counts=True)\n",
        "    return colors[count.argmax()]\n",
        "\n",
        "def bincount(image):\n",
        "    img2D = image.reshape(-1, image.shape[-1])\n",
        "    col_range = (256, 256, 256)\n",
        "    img1D = np.ravel_multi_index(img2D.T, col_range)\n",
        "    return np.unravel_index(np.bincount(img1D).argmax(), col_range)\n",
        "\n",
        "def bincount_numexpr(image):\n",
        "    img2D = image.reshape(-1, image.shape[-1])\n",
        "    col_range = (256, 256, 256)\n",
        "    eval_params = {'a0':img2D[:,0],'a1':img2D[:,1],'a2':img2D[:,2],\n",
        "                   's0':col_range[0],'s1':col_range[1]}\n",
        "    img1D = ne.evaluate('a0*s0*s1+a1*s0+a2', eval_params)\n",
        "    return np.unravel_index(np.bincount(img1D).argmax(), col_range)\n",
        "\n",
        "def kmeans_count(image):\n",
        "    data = np.reshape(image, (-1,3))\n",
        "    data = np.float32(data)\n",
        "    criteria = (cv2.TERM_CRITERIA_EPS + cv2.TERM_CRITERIA_MAX_ITER, 10, 1.0)\n",
        "    flags = cv2.KMEANS_RANDOM_CENTERS\n",
        "    compactness, labels, centers = cv2.kmeans(data, 2, None, criteria, 10, flags)\n",
        "    color = centers[0].astype(np.int32)\n",
        "    if color[0] >= 165 and color[0] <= 170 and color[1] >= 110 and color[1] <= 115 and color[2] >= 45 and color[2] <= 50:\n",
        "      color = centers[1].astype(np.int32)\n",
        "    return color\n",
        "\n",
        "def filter_background(bgr):\n",
        "    base_b, base_g, base_r = 169, 113, 48\n",
        "    thresh = 18\n",
        "\n",
        "    b, g, r = bgr\n",
        "\n",
        "    return not (b >= base_b-thresh and b <= base_b+thresh and \n",
        "        g >= base_g-thresh and g <= base_g+thresh and \n",
        "        r >= base_r-thresh and r <= base_r+thresh)\n",
        "        \n",
        "def get_image_colors(image, n_colors=3, ksize=None):\n",
        "    if ksize is not None:\n",
        "      image = cv2.GaussianBlur(image,(5,5),cv2.BORDER_DEFAULT)\n",
        "    all_rgb = image.reshape(-1, 3)\n",
        "    no_background = all_rgb[np.array([filter_background(row) for row in all_rgb])]\n",
        "    df = pd.DataFrame(no_background,columns=['b','g','r'])\n",
        "    colors_list = df.groupby(['b','g','r']).size().sort_values(ascending=False).reset_index()\n",
        "    colors_list = colors_list.iloc[0:n_colors,:-1].values.reshape(-1).tolist()\n",
        "    return colors_list\n",
        "\n",
        "def remove_worst_color(colors):\n",
        "    distances = np.array([0 for i in range(len(colors))])\n",
        "    for i in range(len(colors)):\n",
        "      for j in range(len(colors)):\n",
        "        if j != i:\n",
        "          distances[i] += pow(np.linalg.norm(colors[i]-colors[j]), 2)\n",
        "    worst_color = distances.argmax()\n",
        "    return np.delete(colors, [worst_color], axis=0)\n",
        "\n",
        "def average_color(colors):\n",
        "    average_bgr = [0, 0, 0]\n",
        "    for color in colors:\n",
        "        average_bgr[0] += color[0]/len(colors)\n",
        "        average_bgr[1] += color[1]/len(colors)\n",
        "        average_bgr[2] += color[2]/len(colors)\n",
        "    \n",
        "    return average_bgr\n",
        "\n",
        "def is_impureza(img, center_distance_limit=25, contour_size_diff_limit=270, expected_max_contour_length=250, expected_min_contour_length=37, verbose=False):\n",
        "\n",
        "  gray_img = cv2.cvtColor(img, cv2.COLOR_BGR2GRAY)\n",
        "  if verbose: \n",
        "    print('Gray scale')\n",
        "    cv2_imshow(gray_img)\n",
        "\n",
        "  center = None\n",
        "  edges = None\n",
        "  # Testa até encontrar um valor de threshold que nao gere imagem vazia\n",
        "  threshold = 95\n",
        "  while True:\n",
        "    try:\n",
        "\n",
        "      # Thresholding\n",
        "      ret, thresh = cv2.threshold(gray_img, threshold, 255, cv2.THRESH_BINARY)\n",
        "      if verbose: \n",
        "        print('Threshold')\n",
        "        cv2_imshow(thresh)\n",
        "\n",
        "\n",
        "      # Abertura\n",
        "      kernel = np.ones((4,4),np.uint8)\n",
        "      opening = cv2.morphologyEx(thresh, cv2.MORPH_OPEN, kernel)\n",
        "      if verbose:\n",
        "        print('Opening')\n",
        "        cv2_imshow(opening)\n",
        "\n",
        "\n",
        "      # Fechamento\n",
        "      kernel2 = np.ones((10,10),np.uint8)\n",
        "      closing = cv2.morphologyEx(opening, cv2.MORPH_CLOSE, kernel2)\n",
        "      if verbose:\n",
        "        print('Closing')\n",
        "        cv2_imshow(closing)\n",
        "\n",
        "\n",
        "      # Canny\n",
        "      edges = cv2.Canny(closing, threshold1=90, threshold2=120, apertureSize=5, L2gradient=True)\n",
        "      if verbose:\n",
        "        print('Canny')\n",
        "        cv2_imshow(edges)\n",
        "\n",
        "\n",
        "      # Encontra o centro do objeto\n",
        "      center = np.array(centroid(edges))\n",
        "      if verbose:\n",
        "        print('Centroid')\n",
        "        centroid_image = cv2.circle(copy.deepcopy(edges), tuple(center), 3, (255, 255, 255), -1)\n",
        "        cv2_imshow(centroid_image)\n",
        "\n",
        "      break\n",
        "    except ZeroDivisionError:\n",
        "      threshold += 1\n",
        "\n",
        "\n",
        "  # Encontra hough circle\n",
        "  hough_radii = np.arange(30, 40, 1)\n",
        "  hough_res = hough_circle(edges, hough_radii)\n",
        "  accums, cx, cy, radii = hough_circle_peaks(hough_res, hough_radii, total_num_peaks=1)\n",
        "  if verbose:\n",
        "    print('Hough circle')\n",
        "    drawn_img = color.gray2rgb(copy.deepcopy(img))\n",
        "    for center_y, center_x, radius in zip(cy, cx, radii):\n",
        "        circy, circx = circle_perimeter(center_y, center_x, radius)\n",
        "        drawn_img[circy, circx] = (20, 220, 20)\n",
        "    cv2_imshow(drawn_img)\n",
        "\n",
        "\n",
        "  # Encontra os contornos do objeto\n",
        "  _, contours, hierarchy = cv2.findContours(edges,cv2.RETR_TREE,cv2.CHAIN_APPROX_SIMPLE)\n",
        "  if verbose:\n",
        "    print('Contours')\n",
        "    contours_image = cv2.drawContours(copy.deepcopy(img), list(contours), -1, (0,255,0), 1)\n",
        "    cv2_imshow(contours_image)\n",
        "\n",
        "\n",
        "  # Encontra o maior contorno\n",
        "  highest_countour_length = 0\n",
        "  index_of_longest_contour = -1\n",
        "  for i, contour in enumerate(contours):\n",
        "    contour_length = cv2.arcLength(contour, closed=True)\n",
        "    if contour_length > highest_countour_length:\n",
        "      highest_countour_length = contour_length\n",
        "      index_of_longest_contour = i\n",
        "\n",
        "  # Encontra as diferenças entre o comprimento do controno do objeto e cada circulo gerado a partir de cada ponto do contorno do objeto\n",
        "  contour = contours[index_of_longest_contour]\n",
        "  highest_length_diff = 0\n",
        "  contour_length = cv2.arcLength(contour, closed=True)\n",
        "  for i in range(len(contour)):\n",
        "    radius = np.linalg.norm(contour[i][0]-center)\n",
        "    perimeter = 2*radius*np.pi\n",
        "    length_diff = abs(perimeter - contour_length)\n",
        "    if length_diff > highest_length_diff:\n",
        "      highest_length_diff = length_diff\n",
        "\n",
        "  # Decide sobre o objeto\n",
        "  circle_center = np.array((cx[0], cy[0]))\n",
        "  object_center = np.array(center)\n",
        "  distance = np.linalg.norm(object_center-circle_center)\n",
        "  if distance > center_distance_limit:\n",
        "    impureza = True\n",
        "  elif highest_countour_length > expected_max_contour_length:\n",
        "    impureza = True\n",
        "  elif highest_countour_length < expected_min_contour_length:\n",
        "    impureza = True\n",
        "  elif highest_length_diff > contour_size_diff_limit:\n",
        "    impureza = True\n",
        "  else:\n",
        "    impureza = False\n",
        "\n",
        "  return impureza\n",
        "\n",
        "def get_dataframe(ksize, n_colors, read_dataframe_from_file=True):\n",
        "  if not read_dataframe_from_file:\n",
        "    data = []\n",
        "    \n",
        "    conilon = listdir(\"/content/DatasetCafe/data/conilon/\")\n",
        "    for filename in conilon:\n",
        "      image = cv2.imread(\"/content/DatasetCafe/data/conilon/\"+filename, cv2.COLOR_BGR2RGB)\n",
        "      color = list(kmeans_count(image))\n",
        "      color = color + get_image_colors(image, n_colors, ksize)\n",
        "      color.append(0)\n",
        "      data.append(color)\n",
        "\n",
        "\n",
        "    fox_bean = listdir(\"/content/DatasetCafe/data/fox_bean/\")\n",
        "    for filename in fox_bean:\n",
        "      image = cv2.imread(\"/content/DatasetCafe/data/fox_bean/\"+filename, cv2.COLOR_BGR2RGB)\n",
        "      color = list(kmeans_count(image))\n",
        "      color = color + get_image_colors(image, n_colors, ksize)\n",
        "      color.append(1)\n",
        "      data.append(color)\n",
        "\n",
        "\n",
        "    moka = listdir(\"/content/DatasetCafe/data/moka/\")\n",
        "    for filename in moka:\n",
        "      image = cv2.imread(\"/content/DatasetCafe/data/moka/\"+filename, cv2.COLOR_BGR2RGB)\n",
        "      color = list(kmeans_count(image))\n",
        "      color = color + get_image_colors(image, n_colors, ksize)\n",
        "      color.append(2)\n",
        "      data.append(color)\n",
        "\n",
        "    verde = listdir(\"/content/DatasetCafe/data/verde/\")\n",
        "    for filename in verde:\n",
        "      image = cv2.imread(\"/content/DatasetCafe/data/verde/\"+filename, cv2.COLOR_BGR2RGB)\n",
        "      color = list(kmeans_count(image))\n",
        "      color = color + get_image_colors(image, n_colors, ksize)\n",
        "      color.append(3)\n",
        "      data.append(color)\n",
        "\n",
        "    cols = ['B', 'G', 'R']\n",
        "    for i in range(n_colors):\n",
        "      cols.append(f'B{i}')\n",
        "      cols.append(f'G{i}')\n",
        "      cols.append(f'R{i}')\n",
        "\n",
        "    cols.append('Tipo')\n",
        "\n",
        "    dataframe = pd.DataFrame(data, columns = cols)\n",
        "\n",
        "    dataframe.to_csv(\"dataframe.csv\", index=False)\n",
        "  else:\n",
        "    dataframe = pd.read_csv(\"dataframe.csv\")\n",
        "  return dataframe\n",
        "\n",
        "def get_model(ksize, n_colors, read_model_file=True, read_dataframe_from_file=True):\n",
        "  model = None\n",
        "  dataframe = get_dataframe(ksize, n_colors, read_dataframe_from_file)\n",
        "  x = dataframe.drop('Tipo', axis=1)\n",
        "  y = dataframe[['Tipo']]\n",
        "  x_train, x_test, y_train, y_test = sklearn.model_selection.train_test_split(x, y, test_size=0.2)\n",
        "  if not read_model_file:\n",
        "    matrix = np.linalg.inv(covariance.empirical_covariance(x_train))\n",
        "\n",
        "    model = neighbors.KNeighborsClassifier(n_neighbors=15, metric='mahalanobis', metric_params={'VI': matrix})\n",
        "    model.fit(x_train, np.ravel(y_train))\n",
        "    \n",
        "    with open(\"type_prediction_model.pickle\", \"wb\") as f:\n",
        "      pickle.dump(model, f)\n",
        "  \n",
        "  else:\n",
        "    with open(\"type_prediction_model.pickle\", \"rb\") as f:\n",
        "      model = pickle.load(f)\n",
        "\n",
        "  return model, dataframe, x_train, x_test, y_train, y_test\n",
        "\n",
        "def acc_classificador_impurezas():\n",
        "  acertos = 0\n",
        "  tentativas = 0\n",
        "\n",
        "  impurezas = listdir(\"/content/DatasetCafe/data/impureza/\")\n",
        "  for filename in impurezas:\n",
        "    image = cv2.imread(\"/content/DatasetCafe/data/impureza/\"+filename, cv2.COLOR_BGR2RGB)\n",
        "    tentativas += 1\n",
        "    if is_impureza(image):\n",
        "      acertos += 1\n",
        "  print(f'Impureza: {acertos} acertos, {tentativas-acertos} erros, total {acertos/tentativas}')\n",
        "\n",
        "  acertos_por_classe = 0\n",
        "  tentativas_por_classe = 0\n",
        "  conilon = listdir(\"/content/DatasetCafe/data/conilon/\")\n",
        "  for filename in conilon:\n",
        "    image = cv2.imread(\"/content/DatasetCafe/data/conilon/\"+filename, cv2.COLOR_BGR2RGB)\n",
        "    tentativas += 1\n",
        "    tentativas_por_classe += 1\n",
        "    if not is_impureza(image):\n",
        "      acertos += 1\n",
        "      acertos_por_classe += 1\n",
        "  print(f'Conilon: {acertos_por_classe} acertos, {tentativas_por_classe-acertos_por_classe} erros, total {acertos_por_classe/tentativas_por_classe}')\n",
        "  print(f'Conilon: {acertos} acertos, {tentativas-acertos} erros, total {acertos/tentativas}')\n",
        "\n",
        "  acertos_por_classe = 0\n",
        "  tentativas_por_classe = 0\n",
        "  fox_bean = listdir(\"/content/DatasetCafe/data/fox_bean/\")\n",
        "  for filename in fox_bean:\n",
        "    image = cv2.imread(\"/content/DatasetCafe/data/fox_bean/\"+filename, cv2.COLOR_BGR2RGB)\n",
        "    tentativas += 1\n",
        "    tentativas_por_classe += 1\n",
        "    if not is_impureza(image):\n",
        "      acertos += 1\n",
        "      acertos_por_classe += 1\n",
        "  print(f'Fox-bean: {acertos_por_classe} acertos, {tentativas_por_classe-acertos_por_classe} erros, total {acertos_por_classe/tentativas_por_classe}')\n",
        "  print(f'Fox-bean: {acertos} acertos, {tentativas-acertos} erros, total {acertos/tentativas}')\n",
        "\n",
        "  acertos_por_classe = 0\n",
        "  tentativas_por_classe = 0\n",
        "  moka = listdir(\"/content/DatasetCafe/data/moka/\")\n",
        "  for filename in moka:\n",
        "    image = cv2.imread(\"/content/DatasetCafe/data/moka/\"+filename, cv2.COLOR_BGR2RGB)\n",
        "    tentativas += 1\n",
        "    tentativas_por_classe += 1\n",
        "    if not is_impureza(image):\n",
        "      acertos += 1\n",
        "      acertos_por_classe += 1\n",
        "  print(f'Moka: {acertos_por_classe} acertos, {tentativas_por_classe-acertos_por_classe} erros, total {acertos_por_classe/tentativas_por_classe}')\n",
        "  print(f'Moka: {acertos} acertos, {tentativas-acertos} erros, total {acertos/tentativas}')\n",
        "\n",
        "  acertos_por_classe = 0\n",
        "  tentativas_por_classe = 0\n",
        "  verde = listdir(\"/content/DatasetCafe/data/verde/\")\n",
        "  for filename in verde:\n",
        "    image = cv2.imread(\"/content/DatasetCafe/data/verde/\"+filename, cv2.COLOR_BGR2RGB)\n",
        "    tentativas += 1\n",
        "    tentativas_por_classe += 1\n",
        "    if not is_impureza(image):\n",
        "      acertos += 1\n",
        "      acertos_por_classe += 1\n",
        "  print(f'Verde: {acertos_por_classe} acertos, {tentativas_por_classe-acertos_por_classe} erros, total {acertos_por_classe/tentativas_por_classe}')\n",
        "  print(f'Verde: {acertos} acertos, {tentativas-acertos} erros, total {acertos/tentativas}')\n",
        "\n",
        "  print(f'TOTAL: {acertos} acertos, {tentativas-acertos} erros, total {acertos/tentativas}')\n",
        "\n",
        "  return acertos/tentativas"
      ],
      "execution_count": 0,
      "outputs": []
    },
    {
      "cell_type": "code",
      "metadata": {
        "id": "2r1Vuf-5RpWo",
        "colab_type": "code",
        "outputId": "2d0c0fed-3481-468c-9364-701666fe3e9f",
        "colab": {
          "base_uri": "https://localhost:8080/",
          "height": 306
        }
      },
      "source": [
        "tipos = ['conilon', 'fox_bean', 'moka', 'verde']\n",
        "n_colors = 1\n",
        "ksize = 2\n",
        "\n",
        "model, \\\n",
        "dataframe, \\\n",
        "x_train, \\\n",
        "x_test, \\\n",
        "y_train, \\\n",
        "y_test = get_model(ksize, n_colors, read_model_file=False, read_dataframe_from_file=False)\n",
        "\n",
        "scores = cross_val_score(model, x_train, np.ravel(y_train), cv=10)\n",
        "print(scores.mean())\n",
        "\n",
        "y_prediction = model.predict(x_test)\n",
        "\n",
        "accuracy = metrics.accuracy_score(y_test, y_prediction)\n",
        "print(accuracy)\n",
        "print(classification_report(y_test, y_prediction))\n",
        "print(confusion_matrix(y_test, y_prediction))"
      ],
      "execution_count": 0,
      "outputs": [
        {
          "output_type": "stream",
          "text": [
            "0.8081633459835545\n",
            "0.8375\n",
            "              precision    recall  f1-score   support\n",
            "\n",
            "           0       0.78      0.74      0.76        19\n",
            "           1       0.72      0.76      0.74        17\n",
            "           2       0.83      1.00      0.91        20\n",
            "           3       1.00      0.83      0.91        24\n",
            "\n",
            "    accuracy                           0.84        80\n",
            "   macro avg       0.83      0.83      0.83        80\n",
            "weighted avg       0.85      0.84      0.84        80\n",
            "\n",
            "[[14  5  0  0]\n",
            " [ 4 13  0  0]\n",
            " [ 0  0 20  0]\n",
            " [ 0  0  4 20]]\n"
          ],
          "name": "stdout"
        }
      ]
    },
    {
      "cell_type": "code",
      "metadata": {
        "id": "fzCaadAebYDy",
        "colab_type": "code",
        "outputId": "f9bd50fa-3d3c-404e-ad52-a4def8f92925",
        "colab": {
          "base_uri": "https://localhost:8080/",
          "height": 204
        }
      },
      "source": [
        "acc = acc_classificador_impurezas()\n",
        "print(acc)"
      ],
      "execution_count": 0,
      "outputs": [
        {
          "output_type": "stream",
          "text": [
            "Impureza: 69 acertos, 31 erros, total 0.69\n",
            "Conilon: 66 acertos, 34 erros, total 0.66\n",
            "Conilon: 135 acertos, 65 erros, total 0.675\n",
            "Fox-bean: 71 acertos, 29 erros, total 0.71\n",
            "Fox-bean: 206 acertos, 94 erros, total 0.6866666666666666\n",
            "Moka: 87 acertos, 13 erros, total 0.87\n",
            "Moka: 293 acertos, 107 erros, total 0.7325\n",
            "Verde: 65 acertos, 35 erros, total 0.65\n",
            "Verde: 358 acertos, 142 erros, total 0.716\n",
            "TOTAL: 358 acertos, 142 erros, total 0.716\n",
            "0.716\n"
          ],
          "name": "stdout"
        }
      ]
    },
    {
      "cell_type": "code",
      "metadata": {
        "id": "D5cXk5P2c4cp",
        "colab_type": "code",
        "outputId": "e1958909-1743-4b24-8333-0ebcb1685445",
        "colab": {
          "base_uri": "https://localhost:8080/",
          "height": 317
        }
      },
      "source": [
        "img = cv2.imread(\"/content/DatasetCafe/data/impureza/impureza_105.jpg\", cv2.COLOR_BGR2RGB)\n",
        "gray_img = cv2.cvtColor(img, cv2.COLOR_BGR2GRAY)\n",
        "blur = cv2.GaussianBlur(img,(5,5),cv2.BORDER_DEFAULT)\n",
        "gray_blur = cv2.cvtColor(blur, cv2.COLOR_BGR2GRAY)\n",
        "\n",
        "cv2_imshow(img)"
      ],
      "execution_count": 0,
      "outputs": [
        {
          "output_type": "display_data",
          "data": {
            "image/png": "[encoded data removed]",
            "text/plain": [
              "<PIL.Image.Image image mode=RGB size=300x300 at 0x7F8058343908>"
            ]
          },
          "metadata": {
            "tags": []
          }
        }
      ]
    },
    {
      "cell_type": "code",
      "metadata": {
        "id": "3x15xokaw3nD",
        "colab_type": "code",
        "outputId": "af81fcff-a6f3-4c90-ccfa-240e4027ca35",
        "colab": {
          "base_uri": "https://localhost:8080/",
          "height": 1000
        }
      },
      "source": [
        "# output\n",
        "\n",
        "if is_impureza(img, verbose=True):\n",
        "  print(\"impureza\")\n",
        "else:\n",
        "  img_colors = [list(kmeans_count(blur)) + get_image_colors(blur, n_colors, ksize)]\n",
        "  pred = model.predict(img_colors)[0]\n",
        "  print(tipos[pred])\n",
        "cv2_imshow(img)"
      ],
      "execution_count": 0,
      "outputs": [
        {
          "output_type": "stream",
          "text": [
            "Gray scale\n"
          ],
          "name": "stdout"
        },
        {
          "output_type": "display_data",
          "data": {
            "image/png": "[encoded data removed]",
            "text/plain": [
              "<PIL.Image.Image image mode=L size=300x300 at 0x7F8058343208>"
            ]
          },
          "metadata": {
            "tags": []
          }
        },
        {
          "output_type": "stream",
          "text": [
            "Threshold\n"
          ],
          "name": "stdout"
        },
        {
          "output_type": "display_data",
          "data": {
            "image/png": "[encoded data removed]",
            "text/plain": [
              "<PIL.Image.Image image mode=L size=300x300 at 0x7F80583432E8>"
            ]
          },
          "metadata": {
            "tags": []
          }
        },
        {
          "output_type": "stream",
          "text": [
            "Opening\n"
          ],
          "name": "stdout"
        },
        {
          "output_type": "display_data",
          "data": {
            "image/png": "[encoded data removed]",
            "text/plain": [
              "<PIL.Image.Image image mode=L size=300x300 at 0x7F8058343208>"
            ]
          },
          "metadata": {
            "tags": []
          }
        },
        {
          "output_type": "stream",
          "text": [
            "Closing\n"
          ],
          "name": "stdout"
        },
        {
          "output_type": "display_data",
          "data": {
            "image/png": "[encoded data removed]",
            "text/plain": [
              "<PIL.Image.Image image mode=L size=300x300 at 0x7F80583432E8>"
            ]
          },
          "metadata": {
            "tags": []
          }
        },
        {
          "output_type": "stream",
          "text": [
            "Canny\n"
          ],
          "name": "stdout"
        },
        {
          "output_type": "display_data",
          "data": {
            "image/png": "[encoded data removed]",
            "text/plain": [
              "<PIL.Image.Image image mode=L size=300x300 at 0x7F8058343208>"
            ]
          },
          "metadata": {
            "tags": []
          }
        },
        {
          "output_type": "stream",
          "text": [
            "Centroid\n"
          ],
          "name": "stdout"
        },
        {
          "output_type": "display_data",
          "data": {
            "image/png": "[encoded data removed]",
            "text/plain": [
              "<PIL.Image.Image image mode=L size=300x300 at 0x7F80583432E8>"
            ]
          },
          "metadata": {
            "tags": []
          }
        },
        {
          "output_type": "stream",
          "text": [
            "Hough circle\n"
          ],
          "name": "stdout"
        },
        {
          "output_type": "display_data",
          "data": {
            "image/png": "[encoded data removed]",
            "text/plain": [
              "<PIL.Image.Image image mode=RGB size=300x300 at 0x7F80583432E8>"
            ]
          },
          "metadata": {
            "tags": []
          }
        },
        {
          "output_type": "stream",
          "text": [
            "Contours\n"
          ],
          "name": "stdout"
        },
        {
          "output_type": "display_data",
          "data": {
            "image/png": "[encoded data removed]",
            "text/plain": [
              "<PIL.Image.Image image mode=RGB size=300x300 at 0x7F8058343208>"
            ]
          },
          "metadata": {
            "tags": []
          }
        },
        {
          "output_type": "stream",
          "text": [
            "impureza\n"
          ],
          "name": "stdout"
        },
        {
          "output_type": "display_data",
          "data": {
            "image/png": "[encoded data removed]",
            "text/plain": [
              "<PIL.Image.Image image mode=RGB size=300x300 at 0x7F8058343198>"
            ]
          },
          "metadata": {
            "tags": []
          }
        }
      ]
    },
    {
      "cell_type": "code",
      "metadata": {
        "id": "M0bPGwmCVUV3",
        "colab_type": "code",
        "colab": {}
      },
      "source": [
        ""
      ],
      "execution_count": 0,
      "outputs": []
    }
  ]
}